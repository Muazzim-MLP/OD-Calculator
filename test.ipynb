{
 "cells": [
  {
   "cell_type": "code",
   "execution_count": null,
   "metadata": {},
   "outputs": [
    {
     "name": "stdout",
     "output_type": "stream",
     "text": [
      "19.546666666666663\n"
     ]
    }
   ],
   "source": [
    "def calculate_rrp(formula, **variables):\n",
    "    return eval(formula, {}, variables)\n",
    "\n",
    "# Example usage\n",
    "formula = \"(a+b)/0.85*1.2\"  # Formula as a string\n",
    "\n",
    "input =\n",
    "shipping\n",
    "\n",
    "rrp = calculate_rrp(formula, a=14.66, b=6.25)\n",
    "print(rrp)  # Output: 53\n"
   ]
  },
  {
   "cell_type": "code",
   "execution_count": null,
   "metadata": {},
   "outputs": [],
   "source": [
    "def calculate_price(rrp):\n",
    "    if formula_sale:\n",
    "        ## then use the formula here\n",
    "    else:\n",
    "        price = rrp\n",
    "    return price"
   ]
  }
 ],
 "metadata": {
  "kernelspec": {
   "display_name": "Python 3",
   "language": "python",
   "name": "python3"
  },
  "language_info": {
   "codemirror_mode": {
    "name": "ipython",
    "version": 3
   },
   "file_extension": ".py",
   "mimetype": "text/x-python",
   "name": "python",
   "nbconvert_exporter": "python",
   "pygments_lexer": "ipython3",
   "version": "3.11.9"
  }
 },
 "nbformat": 4,
 "nbformat_minor": 2
}
